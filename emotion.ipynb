{
 "cells": [
  {
   "cell_type": "markdown",
   "id": "d29e2837",
   "metadata": {},
   "source": [
    "**Dependencies**"
   ]
  },
  {
   "cell_type": "code",
   "execution_count": 1,
   "id": "1fbfed95",
   "metadata": {},
   "outputs": [],
   "source": [
    "import numpy as np\n",
    "import keras\n",
    "from keras.models import Sequential\n",
    "from keras.layers import Conv2D,MaxPool2D,Dense,Flatten,Reshape\n",
    "from keras import layer\n",
    "import cv2s\n",
    "import matplotlib.pyplot as plt\n",
    "import os \n",
    "from tensorflow.keras.callbacks import EarlyStopping\n",
    "from sklearn.model_selection import train_test_split"
   ]
  },
  {
   "cell_type": "markdown",
   "id": "bf7ac521",
   "metadata": {},
   "source": [
    "**Data Preprocessing**"
   ]
  },
  {
   "cell_type": "code",
   "execution_count": 2,
   "id": "ad83318b",
   "metadata": {},
   "outputs": [],
   "source": [
    "x=[]\n",
    "y=[]\n",
    "mapping={\n",
    "    \"anger\":0,\n",
    "    \"disgust\":1,\n",
    "    \"fear\":2,\n",
    "    \"happy\":3,\n",
    "    \"neutral\":4\n",
    "}\n",
    "path=r\"C:\\Users\\Suma\\Desktop\\FACE_RECOGNITION\\Emotion\"\n",
    "for relate in mapping.keys():\n",
    "    for img in os.listdir(os.path.join(path,relate)):\n",
    "        im=cv2.imread(os.path.join(path,relate,img))\n",
    "        im=cv2.cvtColor(im,cv2.COLOR_BGR2GRAY)\n",
    "        im=cv2.resize(im,(40,40))\n",
    "        x.append(im)\n",
    "        y.append(mapping[relate])\n",
    "x=np.array(x)\n",
    "y=np.array(y)\n",
    "x=x.reshape(x.shape[0],40,40,1)\n",
    "x=x.astype('float32')\n",
    "x=x/255\n",
    "x_train,x_test,y_train,y_test=train_test_split(x,y,test_size=0.1)\n",
    "x_train,x_valid,y_train,y_valid=train_test_split(x_train,y_train,test_size=0.1)\n",
    "early_stopping=EarlyStopping(\n",
    "    patience=15, \n",
    "    restore_best_weights=True,\n",
    ")"
   ]
  },
  {
   "cell_type": "markdown",
   "id": "d6a2ffc5",
   "metadata": {},
   "source": [
    "**CNN Model Architecture**"
   ]
  },
  {
   "cell_type": "code",
   "execution_count": 3,
   "id": "71591ec5",
   "metadata": {},
   "outputs": [
    {
     "name": "stdout",
     "output_type": "stream",
     "text": [
      "Model: \"sequential\"\n",
      "_________________________________________________________________\n",
      "Layer (type)                 Output Shape              Param #   \n",
      "=================================================================\n",
      "conv2d (Conv2D)              (None, 38, 38, 150)       1500      \n",
      "_________________________________________________________________\n",
      "max_pooling2d (MaxPooling2D) (None, 19, 19, 150)       0         \n",
      "_________________________________________________________________\n",
      "batch_normalization (BatchNo (None, 19, 19, 150)       600       \n",
      "_________________________________________________________________\n",
      "conv2d_1 (Conv2D)            (None, 19, 19, 80)        108080    \n",
      "_________________________________________________________________\n",
      "leaky_re_lu (LeakyReLU)      (None, 19, 19, 80)        0         \n",
      "_________________________________________________________________\n",
      "max_pooling2d_1 (MaxPooling2 (None, 9, 9, 80)          0         \n",
      "_________________________________________________________________\n",
      "batch_normalization_1 (Batch (None, 9, 9, 80)          320       \n",
      "_________________________________________________________________\n",
      "conv2d_2 (Conv2D)            (None, 5, 5, 10)          20010     \n",
      "_________________________________________________________________\n",
      "leaky_re_lu_1 (LeakyReLU)    (None, 5, 5, 10)          0         \n",
      "_________________________________________________________________\n",
      "max_pooling2d_2 (MaxPooling2 (None, 2, 2, 10)          0         \n",
      "_________________________________________________________________\n",
      "batch_normalization_2 (Batch (None, 2, 2, 10)          40        \n",
      "_________________________________________________________________\n",
      "flatten (Flatten)            (None, 40)                0         \n",
      "_________________________________________________________________\n",
      "dropout (Dropout)            (None, 40)                0         \n",
      "_________________________________________________________________\n",
      "dense (Dense)                (None, 60)                2460      \n",
      "_________________________________________________________________\n",
      "dense_1 (Dense)              (None, 5)                 305       \n",
      "=================================================================\n",
      "Total params: 133,315\n",
      "Trainable params: 132,835\n",
      "Non-trainable params: 480\n",
      "_________________________________________________________________\n",
      "Epoch 1/200\n",
      "97/97 [==============================] - 33s 328ms/step - loss: 1.6469 - accuracy: 0.3129 - val_loss: 1.5540 - val_accuracy: 0.4070\n",
      "Epoch 2/200\n",
      "97/97 [==============================] - 31s 318ms/step - loss: 1.4586 - accuracy: 0.3968 - val_loss: 1.4952 - val_accuracy: 0.4070\n",
      "Epoch 3/200\n",
      "97/97 [==============================] - 30s 311ms/step - loss: 1.3255 - accuracy: 0.4744 - val_loss: 1.4713 - val_accuracy: 0.4070\n",
      "Epoch 4/200\n",
      "97/97 [==============================] - 30s 310ms/step - loss: 1.2327 - accuracy: 0.5126 - val_loss: 1.4223 - val_accuracy: 0.4709\n",
      "Epoch 5/200\n",
      "97/97 [==============================] - 30s 309ms/step - loss: 1.1706 - accuracy: 0.5424 - val_loss: 1.5428 - val_accuracy: 0.2703\n",
      "Epoch 6/200\n",
      "97/97 [==============================] - 30s 306ms/step - loss: 1.1091 - accuracy: 0.5735 - val_loss: 1.3491 - val_accuracy: 0.4419\n",
      "Epoch 7/200\n",
      "97/97 [==============================] - 31s 316ms/step - loss: 1.0507 - accuracy: 0.5922 - val_loss: 1.3459 - val_accuracy: 0.4709\n",
      "Epoch 8/200\n",
      "97/97 [==============================] - 31s 315ms/step - loss: 0.9978 - accuracy: 0.6155 - val_loss: 1.2272 - val_accuracy: 0.5233\n",
      "Epoch 9/200\n",
      "97/97 [==============================] - 31s 320ms/step - loss: 0.9479 - accuracy: 0.6372 - val_loss: 1.1439 - val_accuracy: 0.5523\n",
      "Epoch 10/200\n",
      "97/97 [==============================] - 33s 335ms/step - loss: 0.8735 - accuracy: 0.6602 - val_loss: 1.0855 - val_accuracy: 0.5901\n",
      "Epoch 11/200\n",
      "97/97 [==============================] - 30s 313ms/step - loss: 0.8393 - accuracy: 0.6696 - val_loss: 1.1650 - val_accuracy: 0.5378\n",
      "Epoch 12/200\n",
      "97/97 [==============================] - 30s 313ms/step - loss: 0.7853 - accuracy: 0.6971 - val_loss: 1.1571 - val_accuracy: 0.5814\n",
      "Epoch 13/200\n",
      "97/97 [==============================] - 30s 310ms/step - loss: 0.7608 - accuracy: 0.7139 - val_loss: 1.2758 - val_accuracy: 0.5291\n",
      "Epoch 14/200\n",
      "97/97 [==============================] - 30s 311ms/step - loss: 0.7058 - accuracy: 0.7324 - val_loss: 1.1651 - val_accuracy: 0.5640\n",
      "Epoch 15/200\n",
      "97/97 [==============================] - 30s 312ms/step - loss: 0.6783 - accuracy: 0.7320 - val_loss: 1.4401 - val_accuracy: 0.4942\n",
      "Epoch 16/200\n",
      "97/97 [==============================] - 31s 317ms/step - loss: 0.6209 - accuracy: 0.7670 - val_loss: 1.0402 - val_accuracy: 0.6134\n",
      "Epoch 17/200\n",
      "97/97 [==============================] - 30s 308ms/step - loss: 0.5944 - accuracy: 0.7790 - val_loss: 1.1182 - val_accuracy: 0.5872\n",
      "Epoch 18/200\n",
      "97/97 [==============================] - 33s 342ms/step - loss: 0.5610 - accuracy: 0.7809 - val_loss: 1.2368 - val_accuracy: 0.5756\n",
      "Epoch 19/200\n",
      "97/97 [==============================] - 31s 323ms/step - loss: 0.5426 - accuracy: 0.7971 - val_loss: 1.1343 - val_accuracy: 0.5727\n",
      "Epoch 20/200\n",
      "97/97 [==============================] - 33s 340ms/step - loss: 0.4714 - accuracy: 0.8168 - val_loss: 1.3407 - val_accuracy: 0.5727\n",
      "Epoch 21/200\n",
      "97/97 [==============================] - 31s 324ms/step - loss: 0.4401 - accuracy: 0.8259 - val_loss: 1.1776 - val_accuracy: 0.5872\n",
      "Epoch 22/200\n",
      "97/97 [==============================] - 30s 308ms/step - loss: 0.4324 - accuracy: 0.8337 - val_loss: 1.6165 - val_accuracy: 0.4738\n",
      "Epoch 23/200\n",
      "97/97 [==============================] - 30s 308ms/step - loss: 0.4324 - accuracy: 0.8362 - val_loss: 1.3420 - val_accuracy: 0.5843\n",
      "Epoch 24/200\n",
      "97/97 [==============================] - 30s 308ms/step - loss: 0.4113 - accuracy: 0.8372 - val_loss: 1.2864 - val_accuracy: 0.6017\n",
      "Epoch 25/200\n",
      "97/97 [==============================] - 30s 311ms/step - loss: 0.3880 - accuracy: 0.8621 - val_loss: 1.4895 - val_accuracy: 0.5814\n",
      "Epoch 26/200\n",
      "97/97 [==============================] - 30s 309ms/step - loss: 0.3498 - accuracy: 0.8641 - val_loss: 1.3886 - val_accuracy: 0.6250\n",
      "Epoch 27/200\n",
      "97/97 [==============================] - 30s 306ms/step - loss: 0.2996 - accuracy: 0.8929 - val_loss: 1.3241 - val_accuracy: 0.6366\n",
      "Epoch 28/200\n",
      "97/97 [==============================] - 31s 315ms/step - loss: 0.2894 - accuracy: 0.8971 - val_loss: 1.4444 - val_accuracy: 0.5901\n",
      "Epoch 29/200\n",
      "97/97 [==============================] - 30s 307ms/step - loss: 0.3463 - accuracy: 0.8773 - val_loss: 1.5259 - val_accuracy: 0.6076\n",
      "Epoch 30/200\n",
      "97/97 [==============================] - 30s 308ms/step - loss: 0.2923 - accuracy: 0.8906 - val_loss: 1.4514 - val_accuracy: 0.5988\n",
      "Epoch 31/200\n",
      "97/97 [==============================] - 30s 308ms/step - loss: 0.2903 - accuracy: 0.8919 - val_loss: 1.8973 - val_accuracy: 0.5465\n"
     ]
    },
    {
     "data": {
      "text/plain": [
       "<keras.callbacks.History at 0x24bc0d44850>"
      ]
     },
     "execution_count": 3,
     "metadata": {},
     "output_type": "execute_result"
    }
   ],
   "source": [
    "emotion =Sequential()\n",
    "emotion.add(Conv2D(filters=150,kernel_size=3,strides=(1,1),padding=\"valid\",input_shape=(40,40,1),activation=\"relu\"))\n",
    "emotion.add(MaxPool2D(pool_size=(2,2)))\n",
    "emotion.add(layers.BatchNormalization())\n",
    "emotion.add(Conv2D(filters=80,kernel_size=3,strides=(1,1),padding=\"same\")) \n",
    "emotion.add(layers.LeakyReLU(alpha=0.1))\n",
    "emotion.add(MaxPool2D(pool_size=(2,2)))\n",
    "emotion.add(layers.BatchNormalization())\n",
    "emotion.add(Conv2D(filters=10,kernel_size=5,strides=(1,1),padding=\"valid\")) \n",
    "emotion.add(layers.LeakyReLU(alpha=0.1))\n",
    "emotion.add(MaxPool2D(pool_size=(2,2)))\n",
    "emotion.add(layers.BatchNormalization())\n",
    "emotion.add(Flatten())\n",
    "emotion.add(layers.Dropout(0.4))\n",
    "emotion.add(Dense(60,activation=\"relu\"))\n",
    "emotion.add(Dense(5,activation=\"softmax\"))\n",
    "emotion.summary()\n",
    "emotion.compile(loss=\"sparse_categorical_crossentropy\",optimizer=\"adam\",metrics=[\"accuracy\"])\n",
    "emotion.fit(x_train,y_train,epochs=200,callbacks=[early_stopping],validation_data=(x_valid, y_valid)) "
   ]
  },
  {
   "cell_type": "code",
   "execution_count": 4,
   "id": "c9dde35e",
   "metadata": {},
   "outputs": [
    {
     "name": "stdout",
     "output_type": "stream",
     "text": [
      "12/12 [==============================] - 1s 77ms/step - loss: 1.0725 - accuracy: 0.5916\n",
      "[1.0725431442260742, 0.5916230082511902]\n"
     ]
    }
   ],
   "source": [
    "print(emotion.evaluate(x_test,y_test))"
   ]
  },
  {
   "cell_type": "code",
   "execution_count": 5,
   "id": "201fb632",
   "metadata": {},
   "outputs": [],
   "source": [
    "emotion.save(\"emotion_model.h5\")"
   ]
  },
  {
   "cell_type": "code",
   "execution_count": 6,
   "id": "6ed01141",
   "metadata": {},
   "outputs": [],
   "source": [
    "new_model=keras.models.load_model(\"emotion_model.h5\")"
   ]
  },
  {
   "cell_type": "code",
   "execution_count": 7,
   "id": "fec23853",
   "metadata": {},
   "outputs": [
    {
     "data": {
      "text/plain": [
       "array([[6.8662310e-01, 1.3794465e-01, 1.7910822e-04, 1.7522255e-01,\n",
       "        3.0659077e-05]], dtype=float32)"
      ]
     },
     "execution_count": 7,
     "metadata": {},
     "output_type": "execute_result"
    }
   ],
   "source": [
    "new_model.predict(x_valid[0].reshape(-1,40,40,1))"
   ]
  },
  {
   "cell_type": "code",
   "execution_count": null,
   "id": "96b82a89",
   "metadata": {},
   "outputs": [],
   "source": []
  }
 ],
 "metadata": {
  "kernelspec": {
   "display_name": "Python 3",
   "language": "python",
   "name": "python3"
  },
  "language_info": {
   "codemirror_mode": {
    "name": "ipython",
    "version": 3
   },
   "file_extension": ".py",
   "mimetype": "text/x-python",
   "name": "python",
   "nbconvert_exporter": "python",
   "pygments_lexer": "ipython3",
   "version": "3.9.1"
  }
 },
 "nbformat": 4,
 "nbformat_minor": 5
}
