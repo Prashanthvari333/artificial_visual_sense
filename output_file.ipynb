{
 "cells": [
  {
   "cell_type": "markdown",
   "id": "6fd9355b",
   "metadata": {},
   "source": [
    "**Dependencies**"
   ]
  },
  {
   "cell_type": "code",
   "execution_count": 5,
   "id": "249cecd7",
   "metadata": {},
   "outputs": [],
   "source": [
    "import keras\n",
    "import pyttsx3\n",
    "import cv2\n",
    "import numpy as np\n",
    "import time"
   ]
  },
  {
   "cell_type": "markdown",
   "id": "df7b4f68",
   "metadata": {},
   "source": [
    "**Loading models**"
   ]
  },
  {
   "cell_type": "code",
   "execution_count": null,
   "id": "b1fb70fb",
   "metadata": {},
   "outputs": [],
   "source": [
    "new_model=keras.models.load_model(\"model.h5\")\n",
    "emo_model=keras.models.load_model(\"emotion_model.h5\")"
   ]
  },
  {
   "cell_type": "markdown",
   "id": "82718de3",
   "metadata": {},
   "source": [
    "**Audio function**"
   ]
  },
  {
   "cell_type": "code",
   "execution_count": 6,
   "id": "d761039e",
   "metadata": {},
   "outputs": [],
   "source": [
    "def audio(rela):\n",
    "    pyobj=pyttsx3.init()\n",
    "    pyobj.say(rela)\n",
    "    pyobj.runAndWait()"
   ]
  },
  {
   "cell_type": "markdown",
   "id": "40ebb1be",
   "metadata": {},
   "source": [
    "**press q to exit**\n",
    "\n",
    "**press f to know about the person**\n",
    "\n",
    "**press e to know their Emotion**\n",
    "\n",
    "**press t to know the current Time**"
   ]
  },
  {
   "cell_type": "code",
   "execution_count": 9,
   "id": "df661940",
   "metadata": {},
   "outputs": [
    {
     "name": "stdout",
     "output_type": "stream",
     "text": [
      "brother\n",
      "anger\n",
      "..........\n",
      "brother\n",
      "anger\n",
      "..........\n",
      "stranger\n",
      "neutral\n",
      "..........\n",
      "stranger\n",
      "neutral\n",
      "..........\n",
      "stranger\n",
      "neutral\n",
      "..........\n",
      "stranger\n",
      "neutral\n",
      "..........\n",
      "stranger\n",
      "neutral\n",
      "..........\n",
      "brother\n",
      "anger\n",
      "..........\n",
      "brother\n",
      "anger\n",
      "..........\n"
     ]
    }
   ],
   "source": [
    "face_cascade=cv2.CascadeClassifier(cv2.data.haarcascades+'haarcascade_frontalface_default.xml')\n",
    "cap=cv2.VideoCapture(0)\n",
    "cap.set(10,200)\n",
    "while True:\n",
    "    _, img = cap.read()\n",
    "    gray= cv2.cvtColor(img,cv2.COLOR_BGR2GRAY)\n",
    "    faces=face_cascade.detectMultiScale(gray,1.05,5)\n",
    "    for(x,y,w,h) in faces:\n",
    "        cv2.rectangle(img,(x,y),(x+w,y+h),(255,0,0),2)\n",
    "        if(x-w>35 and y-h>35):\n",
    "            image=gray[x:x+w,y:y+h]\n",
    "            try:\n",
    "                image=cv2.resize(image,(40,40))\n",
    "                image=np.reshape(image,(1,40,40,1))\n",
    "                prob=new_model.predict(image)\n",
    "                predict_list=[prob[0][0],prob[0][1],prob[0][2],prob[0][3],prob[0][4]]\n",
    "                prediction=max(predict_list)\n",
    "                if(prediction>=0.65):\n",
    "                    if(prediction==predict_list[0]):\n",
    "                        relation=\"brother\"\n",
    "                    elif(prediction==predict_list[1]):\n",
    "                        relation=\"father\"\n",
    "                    elif(prediction==predict_list[2]):\n",
    "                        relation=\"mother\"\n",
    "                    elif(prediction==predict_list[3]):\n",
    "                        relation=\"sister\"\n",
    "                    else:\n",
    "                        relation=\"stranger\"\n",
    "                    print(relation)\n",
    "                eprob=emo_model.predict(image)\n",
    "                emo_predict_list=[eprob[0][0],eprob[0][1],eprob[0][2],eprob[0][3],eprob[0][4]]\n",
    "                eprediction=max(emo_predict_list)\n",
    "                if(eprediction>=0.65):\n",
    "                    if(prediction==predict_list[0]):\n",
    "                        emotion=\"anger\"\n",
    "                    elif(prediction==predict_list[1]):\n",
    "                        emotion=\"disgust\"\n",
    "                    elif(prediction==predict_list[2]):\n",
    "                        emotion=\"fear\"\n",
    "                    elif(prediction==predict_list[3]):\n",
    "                        emotion=\"happy\"\n",
    "                    else:\n",
    "                        emotion=\"neutral\"\n",
    "                    print(emotion)\n",
    "                    print(\"..........\")\n",
    "            except Exception as e:\n",
    "                    pass\n",
    "    cv2.imshow('its video',img)\n",
    "    k=cv2.waitKey(25) & 0xFF\n",
    "    if k==ord('q'):\n",
    "        break\n",
    "    if k==ord('f'):\n",
    "        audio(relation)\n",
    "    if k==ord('e'):\n",
    "        audio(emotion)\n",
    "    if k==ord('t'):\n",
    "        t=time.ctime()\n",
    "        hr_min=t.split(' ')\n",
    "        audio(hr_min[3])\n",
    "cap.release()\n",
    "cv2.destroyAllWindows()"
   ]
  },
  {
   "cell_type": "code",
   "execution_count": null,
   "id": "aa7e72a7",
   "metadata": {},
   "outputs": [],
   "source": []
  }
 ],
 "metadata": {
  "kernelspec": {
   "display_name": "Python 3",
   "language": "python",
   "name": "python3"
  },
  "language_info": {
   "codemirror_mode": {
    "name": "ipython",
    "version": 3
   },
   "file_extension": ".py",
   "mimetype": "text/x-python",
   "name": "python",
   "nbconvert_exporter": "python",
   "pygments_lexer": "ipython3",
   "version": "3.9.1"
  }
 },
 "nbformat": 4,
 "nbformat_minor": 5
}
